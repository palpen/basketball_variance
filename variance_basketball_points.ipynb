{
 "cells": [
  {
   "cell_type": "code",
   "execution_count": 181,
   "metadata": {
    "collapsed": true
   },
   "outputs": [],
   "source": [
    "import random\n",
    "import matplotlib.pyplot as plt\n",
    "import numpy as np\n",
    "from scipy import stats"
   ]
  },
  {
   "cell_type": "code",
   "execution_count": 146,
   "metadata": {
    "collapsed": false
   },
   "outputs": [
    {
     "data": {
      "text/plain": [
       "0"
      ]
     },
     "execution_count": 146,
     "metadata": {},
     "output_type": "execute_result"
    }
   ],
   "source": [
    "# points per attempt given probability of attempting a 3 and probability of making a 3 or a 2 pointer\n",
    "def made_basket(attempt_3, prob_3_make, prob_2_make):\n",
    "    \n",
    "    if random.random() <= attempt_3:\n",
    "        \n",
    "        return 3 if random.random() <= prob_3_make else 0\n",
    "    \n",
    "    else:\n",
    "        \n",
    "        return 2 if random.random() <= prob_2_make else 0\n",
    "\n",
    "made_basket(attempt_3=.28, prob_3_make=.3, prob_2_make=.5)"
   ]
  },
  {
   "cell_type": "code",
   "execution_count": 147,
   "metadata": {
    "collapsed": true
   },
   "outputs": [],
   "source": [
    "# list containing points made in a game\n",
    "def game(attempts, attempt_3, prob_3_make, prob_2_make):\n",
    "    \n",
    "    made_baskets = [made_basket(attempt_3, prob_3_make, prob_2_make) for a in xrange(attempts)]\n",
    "    \n",
    "    return made_baskets"
   ]
  },
  {
   "cell_type": "code",
   "execution_count": 148,
   "metadata": {
    "collapsed": true
   },
   "outputs": [],
   "source": [
    "# list containint total points for all games in a season\n",
    "def season(games, attempts, attempt_3, prob_3_make, prob_2_make):\n",
    "    \n",
    "    season_outcome = [sum(game(attempts, attempt_3, prob_3_make, prob_2_make)) for g in xrange(games)]\n",
    "    \n",
    "    return season_outcome"
   ]
  },
  {
   "cell_type": "code",
   "execution_count": 226,
   "metadata": {
    "collapsed": false
   },
   "outputs": [
    {
     "name": "stdout",
     "output_type": "stream",
     "text": [
      "Mean and std.dev. in a 50% 3-point attempts season\n",
      "86.77\n",
      "11.034269346\n",
      "Mean and std.dev. in a 10% 3-point attempts season\n",
      "84.044\n",
      "9.56713457625\n"
     ]
    },
    {
     "data": {
      "text/plain": [
       "(array([ 0.00145455,  0.00545455,  0.01490909,  0.02309091,  0.04036364,\n",
       "         0.03872727,  0.03109091,  0.01690909,  0.00854545,  0.00127273]),\n",
       " array([  56. ,   61.5,   67. ,   72.5,   78. ,   83.5,   89. ,   94.5,\n",
       "         100. ,  105.5,  111. ]),\n",
       " <a list of 10 Patch objects>)"
      ]
     },
     "execution_count": 226,
     "metadata": {},
     "output_type": "execute_result"
    },
    {
     "data": {
      "image/png": "[encoded data removed]",
      "text/plain": [
       "<matplotlib.figure.Figure at 0x11bb04550>"
      ]
     },
     "metadata": {},
     "output_type": "display_data"
    }
   ],
   "source": [
    "%matplotlib inline\n",
    "season_3pt = season(games=1000, attempts=85, attempt_3=.50, prob_3_make=.35, prob_2_make=.49)\n",
    "\n",
    "print \"Mean and std.dev. in a 50% 3-point attempts season\"\n",
    "print np.mean(season_3pt)\n",
    "print np.std(season_3pt)\n",
    "plt.hist(season_3pt, normed=True, bins=10)\n",
    "\n",
    "\n",
    "season_2pt = season(games=1000, attempts=85, attempt_3=.10, prob_3_make=.35, prob_2_make=.49)\n",
    "\n",
    "print \"Mean and std.dev. in a 10% 3-point attempts season\"\n",
    "print np.mean(season_2pt)\n",
    "print np.std(season_2pt)\n",
    "plt.hist(season_2pt, normed=True, bins=10)"
   ]
  },
  {
   "cell_type": "code",
   "execution_count": 204,
   "metadata": {
    "collapsed": false
   },
   "outputs": [
    {
     "name": "stdout",
     "output_type": "stream",
     "text": [
      "85.575\n",
      "10.84\n"
     ]
    }
   ],
   "source": [
    "# simulate 200 seasons where 40% of shots are from the 3-point line\n",
    "sim_3pt_season = [season(games=82, attempts=85, attempt_3=.4, prob_3_make=.35, prob_2_make=.49) for x in xrange(200) ]\n",
    "\n",
    "# calculate mean points in each season\n",
    "mean_sim_3pt_season = [round(np.mean(x),2) for x in sim_3pt_season]\n",
    "\n",
    "# calculat standard deviation in each season\n",
    "std_sim_3pt_season = [round(np.std(x),2) for x in sim_3pt_season]\n",
    "\n",
    "print np.median(mean_sim_3pt_season)\n",
    "print np.median(std_sim_3pt_season)"
   ]
  },
  {
   "cell_type": "code",
   "execution_count": 190,
   "metadata": {
    "collapsed": false
   },
   "outputs": [
    {
     "name": "stdout",
     "output_type": "stream",
     "text": [
      "83.9\n",
      "9.71\n"
     ]
    }
   ],
   "source": [
    "# simulate 200 seasons where 28% of shots are from the 3-point line\n",
    "sim_2pt_season = [season(games=82, attempts=85, attempt_3=.10, prob_3_make=.35, prob_2_make=.49) for x in xrange(200)]\n",
    "mean_sim_2pt_season = [round(np.mean(x),2) for x in sim_2pt_season]\n",
    "std_sim_2pt_season = [round(np.std(x),2) for x in sim_2pt_season]\n",
    "\n",
    "print np.median(mean_sim_2pt_season)\n",
    "print np.median(std_sim_2pt_season)"
   ]
  },
  {
   "cell_type": "code",
   "execution_count": null,
   "metadata": {
    "collapsed": true
   },
   "outputs": [],
   "source": []
  }
 ],
 "metadata": {
  "kernelspec": {
   "display_name": "Python 2",
   "language": "python",
   "name": "python2"
  },
  "language_info": {
   "codemirror_mode": {
    "name": "ipython",
    "version": 2
   },
   "file_extension": ".py",
   "mimetype": "text/x-python",
   "name": "python",
   "nbconvert_exporter": "python",
   "pygments_lexer": "ipython2",
   "version": "2.7.12"
  }
 },
 "nbformat": 4,
 "nbformat_minor": 0
}
