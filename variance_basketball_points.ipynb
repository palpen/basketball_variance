{
 "cells": [
  {
   "cell_type": "code",
   "execution_count": 1,
   "metadata": {
    "collapsed": true
   },
   "outputs": [],
   "source": [
    "import random\n",
    "import matplotlib.pyplot as plt\n",
    "import numpy as np"
   ]
  },
  {
   "cell_type": "code",
   "execution_count": 90,
   "metadata": {
    "collapsed": true
   },
   "outputs": [],
   "source": [
    "# points per attempt given probability of a make of p\n",
    "def made_basket(points, p):\n",
    "    return points if random.random() <= p else 0"
   ]
  },
  {
   "cell_type": "code",
   "execution_count": 91,
   "metadata": {
    "collapsed": true
   },
   "outputs": [],
   "source": [
    "# list containing points made in a game\n",
    "def game(attempts, points, p):\n",
    "    \n",
    "    made_baskets = [made_basket(points, p) for a in xrange(attempts)]\n",
    "    \n",
    "    return made_baskets"
   ]
  },
  {
   "cell_type": "code",
   "execution_count": 92,
   "metadata": {
    "collapsed": true
   },
   "outputs": [],
   "source": [
    "# list containint total points for all games in a season\n",
    "def season(games, attempts, points, p):\n",
    "    \n",
    "    season_outcome = [sum(game(attempts, points, p)) for g in xrange(games)]\n",
    "    \n",
    "    return season_outcome"
   ]
  },
  {
   "cell_type": "code",
   "execution_count": 93,
   "metadata": {
    "collapsed": false
   },
   "outputs": [
    {
     "data": {
      "text/plain": [
       "(array([ 0.00543478,  0.00543478,  0.01086957,  0.01992754,  0.0307971 ,\n",
       "         0.01811594,  0.03442029,  0.01086957,  0.00724638,  0.00181159]),\n",
       " array([  54. ,   60.9,   67.8,   74.7,   81.6,   88.5,   95.4,  102.3,\n",
       "         109.2,  116.1,  123. ]),\n",
       " <a list of 10 Patch objects>)"
      ]
     },
     "execution_count": 93,
     "metadata": {},
     "output_type": "execute_result"
    },
    {
     "data": {
      "image/png": "[encoded data removed]",
      "text/plain": [
       "<matplotlib.figure.Figure at 0x112984510>"
      ]
     },
     "metadata": {},
     "output_type": "display_data"
    }
   ],
   "source": [
    "%matplotlib inline\n",
    "season_3pt = season(games=80, attempts=100, points=3, p=.3)\n",
    "plt.hist(season_3pt, normed=True, bins=10)"
   ]
  },
  {
   "cell_type": "code",
   "execution_count": 94,
   "metadata": {
    "collapsed": false
   },
   "outputs": [
    {
     "name": "stdout",
     "output_type": "stream",
     "text": [
      "[91.01, 89.21, 88.8, 90.86, 91.76, 90.79, 89.21, 88.88, 90.26, 88.95, 89.81, 88.72, 86.7, 91.69, 91.84, 87.9, 90.34, 87.9, 88.99, 90.71, 92.21, 90.97, 92.21, 90.97, 92.29, 87.34, 92.25, 88.54, 90.04, 88.13, 88.01, 88.35, 89.7, 88.58, 90.9, 88.88, 90.41, 90.83, 90.75, 87.97, 89.47, 89.14, 88.05, 91.58, 91.09, 90.19, 90.19, 88.69, 88.09, 90.0, 89.25, 90.26, 90.94, 88.95, 88.58, 92.44, 87.86, 87.45, 87.56, 90.6, 90.15, 90.34, 93.0, 87.34, 92.44, 90.45, 91.5, 87.83, 87.75, 90.3, 88.99, 90.9, 85.72, 89.78, 89.33, 90.94, 92.21, 91.72, 88.35, 90.19, 90.79, 90.56, 91.2, 91.95, 89.4, 91.35, 88.61, 90.94, 87.38, 88.91, 88.5, 91.58, 88.88, 92.55, 91.84, 89.63, 91.24, 90.11, 89.14, 90.79]\n",
      "[13.8, 12.28, 14.12, 14.47, 12.98, 13.55, 14.53, 13.37, 15.86, 14.33, 12.46, 12.94, 14.16, 14.97, 15.37, 11.59, 14.0, 12.31, 13.61, 13.07, 14.28, 13.74, 12.2, 13.13, 14.58, 13.47, 13.44, 14.6, 12.86, 15.14, 12.97, 14.07, 13.63, 13.56, 13.57, 13.18, 11.88, 14.43, 13.3, 13.23, 14.76, 13.81, 12.6, 13.06, 14.68, 12.03, 12.86, 12.54, 13.06, 14.33, 14.6, 13.96, 16.69, 14.83, 13.97, 14.41, 12.54, 14.36, 13.71, 15.89, 12.56, 14.67, 13.48, 13.42, 13.15, 14.02, 15.7, 13.56, 13.43, 15.34, 14.3, 13.93, 14.04, 14.4, 15.16, 14.03, 14.42, 15.64, 12.25, 11.43, 14.69, 14.73, 14.01, 13.48, 14.06, 12.68, 12.47, 15.4, 14.24, 12.37, 12.36, 14.3, 13.69, 13.72, 11.31, 10.87, 13.32, 12.39, 13.32, 13.36]\n"
     ]
    }
   ],
   "source": [
    "sim_3pt_season = [season(games=80, attempts=100, points=3, p=.30) for x in xrange(100) ]\n",
    "mean_sim_3pt_season = [round(np.mean(x),2) for x in sim_3pt_season]\n",
    "std_sim_3pt_season = [round(np.std(x),2) for x in sim_3pt_season]\n",
    "print mean_sim_3pt_season\n",
    "print std_sim_3pt_season"
   ]
  },
  {
   "cell_type": "code",
   "execution_count": 95,
   "metadata": {
    "collapsed": false
   },
   "outputs": [
    {
     "name": "stdout",
     "output_type": "stream",
     "text": [
      "[102.8, 99.22, 100.55, 100.53, 99.85, 99.88, 100.47, 101.08, 99.75, 99.55, 100.28, 100.42, 99.03, 99.6, 100.67, 98.28, 100.13, 100.72, 98.22, 100.1, 100.03, 100.6, 99.45, 101.2, 101.22, 98.78, 99.88, 101.13, 99.13, 97.38, 98.15, 99.58, 99.3, 101.25, 101.67, 100.55, 101.13, 98.22, 99.78, 100.15, 98.38, 100.95, 100.0, 98.78, 99.6, 101.1, 98.88, 97.67, 98.83, 99.08, 99.9, 99.2, 98.55, 100.05, 101.65, 98.15, 100.67, 99.55, 100.5, 98.47, 100.72, 100.6, 100.03, 100.0, 100.08, 103.28, 98.0, 99.08, 98.05, 99.5, 100.38, 100.2, 99.47, 100.13, 99.47, 100.58, 99.55, 98.92, 101.22, 98.03, 99.38, 98.3, 99.97, 101.85, 100.13, 97.55, 100.4, 102.5, 100.75, 100.0, 99.05, 99.38, 101.05, 98.75, 101.17, 100.1, 100.83, 100.4, 100.6, 101.4]\n",
      "[9.48, 9.11, 9.31, 10.42, 10.93, 9.77, 11.37, 10.73, 9.98, 11.05, 10.21, 10.11, 11.08, 9.98, 10.37, 10.51, 10.49, 9.86, 8.52, 9.88, 11.39, 9.57, 9.48, 11.0, 11.14, 10.06, 9.41, 10.03, 10.01, 9.92, 11.33, 9.58, 9.68, 9.88, 10.36, 11.59, 9.93, 9.78, 9.86, 11.47, 9.86, 10.89, 11.24, 8.61, 9.36, 10.33, 9.24, 9.92, 10.81, 9.29, 8.63, 9.71, 9.46, 10.07, 9.43, 10.22, 9.24, 10.44, 10.62, 9.75, 9.52, 9.87, 9.92, 9.67, 9.19, 8.9, 9.44, 9.31, 10.08, 10.07, 9.04, 10.59, 10.96, 9.51, 8.73, 9.02, 9.96, 9.94, 9.91, 10.22, 10.49, 10.97, 10.03, 10.41, 10.18, 9.97, 10.67, 10.0, 9.06, 11.03, 9.27, 9.86, 9.19, 8.24, 8.96, 9.61, 10.68, 10.41, 9.69, 9.38]\n"
     ]
    }
   ],
   "source": [
    "sim_2pt_season = [season(games=80, attempts=100, points=2, p=.5) for x in xrange(100)]\n",
    "mean_sim_2pt_season = [round(np.mean(x),2) for x in sim_2pt_season]\n",
    "std_sim_2pt_season = [round(np.std(x),2) for x in sim_2pt_season]\n",
    "print mean_sim_2pt_season\n",
    "print std_sim_2pt_season"
   ]
  },
  {
   "cell_type": "code",
   "execution_count": 89,
   "metadata": {
    "collapsed": false
   },
   "outputs": [
    {
     "data": {
      "text/plain": [
       "10.573522355393211"
      ]
     },
     "execution_count": 89,
     "metadata": {},
     "output_type": "execute_result"
    },
    {
     "data": {
      "image/png": "[encoded data removed]",
      "text/plain": [
       "<matplotlib.figure.Figure at 0x1134928d0>"
      ]
     },
     "metadata": {},
     "output_type": "display_data"
    }
   ],
   "source": [
    "season_2pt = season(games=80, attempts=100, points=2, p=.5)\n",
    "plt.hist(season_3pt, normed=True, bins=10)\n",
    "np.std(season_2pt)"
   ]
  },
  {
   "cell_type": "code",
   "execution_count": 25,
   "metadata": {
    "collapsed": false
   },
   "outputs": [
    {
     "ename": "SyntaxError",
     "evalue": "unexpected EOF while parsing (<ipython-input-25-11abc1f8faf3>, line 1)",
     "output_type": "error",
     "traceback": [
      "\u001b[0;36m  File \u001b[0;32m\"<ipython-input-25-11abc1f8faf3>\"\u001b[0;36m, line \u001b[0;32m1\u001b[0m\n\u001b[0;31m    def season_sim():\u001b[0m\n\u001b[0m                     ^\u001b[0m\n\u001b[0;31mSyntaxError\u001b[0m\u001b[0;31m:\u001b[0m unexpected EOF while parsing\n"
     ]
    }
   ],
   "source": [
    "def season_sim():"
   ]
  },
  {
   "cell_type": "code",
   "execution_count": 26,
   "metadata": {
    "collapsed": false
   },
   "outputs": [
    {
     "data": {
      "text/plain": [
       "[1, 1, 1, 1, 1, 1, 1, 1, 1, 1]"
      ]
     },
     "execution_count": 26,
     "metadata": {},
     "output_type": "execute_result"
    }
   ],
   "source": [
    "[1 for x in xrange(10)]"
   ]
  },
  {
   "cell_type": "code",
   "execution_count": null,
   "metadata": {
    "collapsed": true
   },
   "outputs": [],
   "source": []
  }
 ],
 "metadata": {
  "kernelspec": {
   "display_name": "Python 2",
   "language": "python",
   "name": "python2"
  },
  "language_info": {
   "codemirror_mode": {
    "name": "ipython",
    "version": 2
   },
   "file_extension": ".py",
   "mimetype": "text/x-python",
   "name": "python",
   "nbconvert_exporter": "python",
   "pygments_lexer": "ipython2",
   "version": "2.7.12"
  }
 },
 "nbformat": 4,
 "nbformat_minor": 0
}
