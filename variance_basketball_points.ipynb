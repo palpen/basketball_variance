{
 "cells": [
  {
   "cell_type": "code",
   "execution_count": 44,
   "metadata": {
    "collapsed": true
   },
   "outputs": [],
   "source": [
    "import random\n",
    "import matplotlib.pyplot as plt"
   ]
  },
  {
   "cell_type": "code",
   "execution_count": 86,
   "metadata": {
    "collapsed": true
   },
   "outputs": [],
   "source": [
    "def made_basket(points, p):\n",
    "    return points if random.random() < p else 0"
   ]
  },
  {
   "cell_type": "code",
   "execution_count": 87,
   "metadata": {
    "collapsed": true
   },
   "outputs": [],
   "source": [
    "def game(attempts, points, p):\n",
    "    made_baskets = []\n",
    "    for i in xrange(attempts):\n",
    "        made_baskets.append(made_basket(points, p))\n",
    "    return made_baskets"
   ]
  },
  {
   "cell_type": "code",
   "execution_count": 92,
   "metadata": {
    "collapsed": true
   },
   "outputs": [],
   "source": [
    "def season(games, attempts, points, p):\n",
    "    \n",
    "    season_outcome = []\n",
    "    \n",
    "    for g in xrange(games):\n",
    "        \n",
    "        game_points_total = sum(game(attempts, points, p))\n",
    "        \n",
    "        season_outcome.append(game_points_total)\n",
    "    \n",
    "    return season_outcome"
   ]
  },
  {
   "cell_type": "code",
   "execution_count": 93,
   "metadata": {
    "collapsed": false
   },
   "outputs": [],
   "source": [
    "season = season(games=80, attempts=100, points=3, p=.3)"
   ]
  },
  {
   "cell_type": "code",
   "execution_count": 94,
   "metadata": {
    "collapsed": false
   },
   "outputs": [
    {
     "name": "stdout",
     "output_type": "stream",
     "text": [
      "[84, 96, 96, 96, 108, 99, 90, 84, 81, 96, 75, 96, 81, 90, 93, 81, 90, 72, 60, 93, 81, 105, 87, 99, 72, 78, 105, 69, 93, 99, 84, 72, 96, 108, 72, 84, 84, 117, 72, 102, 99, 96, 81, 69, 87, 105, 117, 75, 93, 102, 111, 84, 105, 84, 90, 90, 87, 99, 99, 90, 78, 90, 69, 87, 87, 81, 87, 102, 99, 99, 114, 126, 90, 126, 99, 99, 90, 75, 99, 99]\n"
     ]
    }
   ],
   "source": [
    "print season"
   ]
  },
  {
   "cell_type": "code",
   "execution_count": 96,
   "metadata": {
    "collapsed": false
   },
   "outputs": [
    {
     "data": {
      "text/plain": [
       "(array([ 0.00189394,  0.01515152,  0.0094697 ,  0.02462121,  0.02840909,\n",
       "         0.04356061,  0.01325758,  0.00568182,  0.00568182,  0.00378788]),\n",
       " array([  60. ,   66.6,   73.2,   79.8,   86.4,   93. ,   99.6,  106.2,\n",
       "         112.8,  119.4,  126. ]),\n",
       " <a list of 10 Patch objects>)"
      ]
     },
     "execution_count": 96,
     "metadata": {},
     "output_type": "execute_result"
    },
    {
     "data": {
      "image/png": "[encoded data removed]",
      "text/plain": [
       "<matplotlib.figure.Figure at 0x10f467a90>"
      ]
     },
     "metadata": {},
     "output_type": "display_data"
    }
   ],
   "source": [
    "%matplotlib inline\n",
    "plt.hist(season, normed=True, bins=10)"
   ]
  },
  {
   "cell_type": "code",
   "execution_count": null,
   "metadata": {
    "collapsed": true
   },
   "outputs": [],
   "source": []
  },
  {
   "cell_type": "code",
   "execution_count": null,
   "metadata": {
    "collapsed": true
   },
   "outputs": [],
   "source": []
  }
 ],
 "metadata": {
  "kernelspec": {
   "display_name": "Python 2",
   "language": "python",
   "name": "python2"
  },
  "language_info": {
   "codemirror_mode": {
    "name": "ipython",
    "version": 2
   },
   "file_extension": ".py",
   "mimetype": "text/x-python",
   "name": "python",
   "nbconvert_exporter": "python",
   "pygments_lexer": "ipython2",
   "version": "2.7.12"
  }
 },
 "nbformat": 4,
 "nbformat_minor": 0
}
