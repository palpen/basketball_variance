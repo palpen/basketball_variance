{
 "cells": [
  {
   "cell_type": "code",
   "execution_count": 1,
   "metadata": {
    "collapsed": true
   },
   "outputs": [],
   "source": [
    "import random\n",
    "import matplotlib.pyplot as plt\n",
    "import numpy as np\n",
    "from scipy import stats"
   ]
  },
  {
   "cell_type": "code",
   "execution_count": 3,
   "metadata": {
    "collapsed": false
   },
   "outputs": [
    {
     "data": {
      "text/plain": [
       "2"
      ]
     },
     "execution_count": 3,
     "metadata": {},
     "output_type": "execute_result"
    }
   ],
   "source": [
    "# points per attempt given share of total possesions in a game where a 3 pointer was attempted \n",
    "# and the probability of making a 3 or a 2 pointer\n",
    "def made_basket(attempt_3, prob_3_make, prob_2_make):\n",
    "    \n",
    "    if random.random() <= attempt_3:\n",
    "        \n",
    "        return 3 if random.random() <= prob_3_make else 0\n",
    "    \n",
    "    else:\n",
    "        \n",
    "        return 2 if random.random() <= prob_2_make else 0\n",
    "    \n",
    "\n",
    "# returns a list containing points made in a game given number of attempts per game\n",
    "def game(attempts, attempt_3, prob_3_make, prob_2_make):\n",
    "    \n",
    "    made_baskets = [made_basket(attempt_3, prob_3_make, prob_2_make) for a in xrange(attempts)]\n",
    "    \n",
    "    return made_baskets"
   ]
  },
  {
   "cell_type": "code",
   "execution_count": 4,
   "metadata": {
    "collapsed": true
   },
   "outputs": [],
   "source": []
  },
  {
   "cell_type": "code",
   "execution_count": 5,
   "metadata": {
    "collapsed": true
   },
   "outputs": [],
   "source": [
    "# list containing total points for all games in a season\n",
    "def season(games, attempts, attempt_3, prob_3_make, prob_2_make):\n",
    "    \n",
    "    season_outcome = [sum(game(attempts, attempt_3, prob_3_make, prob_2_make)) for g in xrange(games)]\n",
    "    \n",
    "    return season_outcome"
   ]
  },
  {
   "cell_type": "code",
   "execution_count": 10,
   "metadata": {
    "collapsed": false
   },
   "outputs": [
    {
     "name": "stdout",
     "output_type": "stream",
     "text": [
      "Mean and std.dev. in a 50% 3-point attempts season\n",
      "104.7735\n",
      "14.3772945212\n",
      "Mean and std.dev. in a 10% 3-point attempts season\n",
      "97.9602\n",
      "9.99309841641\n"
     ]
    },
    {
     "data": {
      "text/plain": [
       "(array([  7.89473684e-05,   7.10526316e-04,   5.31578947e-03,\n",
       "          1.77368421e-02,   2.63026316e-02,   4.11447368e-02,\n",
       "          2.79473684e-02,   1.00263158e-02,   2.03947368e-03,\n",
       "          2.76315789e-04]),\n",
       " array([  58. ,   65.6,   73.2,   80.8,   88.4,   96. ,  103.6,  111.2,\n",
       "         118.8,  126.4,  134. ]),\n",
       " <a list of 10 Patch objects>)"
      ]
     },
     "execution_count": 10,
     "metadata": {},
     "output_type": "execute_result"
    },
    {
     "data": {
      "image/png": "[encoded data removed]",
      "text/plain": [
       "<matplotlib.figure.Figure at 0x10c472610>"
      ]
     },
     "metadata": {},
     "output_type": "display_data"
    }
   ],
   "source": [
    "%matplotlib inline\n",
    "season_3pt = season(games=10000, attempts=100, attempt_3=1, prob_3_make=.35, prob_2_make=.49)\n",
    "\n",
    "print \"Mean and std.dev. in a 50% 3-point attempts season\"\n",
    "print np.mean(season_3pt)\n",
    "print np.std(season_3pt)\n",
    "plt.hist(season_3pt, normed=True, bins=10)\n",
    "\n",
    "\n",
    "season_2pt = season(games=10000, attempts=100, attempt_3=0, prob_3_make=.35, prob_2_make=.49)\n",
    "\n",
    "print \"Mean and std.dev. in a 10% 3-point attempts season\"\n",
    "print np.mean(season_2pt)\n",
    "print np.std(season_2pt)\n",
    "plt.hist(season_2pt, normed=True, bins=10)"
   ]
  },
  {
   "cell_type": "code",
   "execution_count": 7,
   "metadata": {
    "collapsed": false
   },
   "outputs": [
    {
     "name": "stdout",
     "output_type": "stream",
     "text": [
      "85.79\n",
      "10.84\n"
     ]
    }
   ],
   "source": [
    "# simulate 200 seasons where 40% of shots are from the 3-point line\n",
    "sim_3pt_season = [season(games=82, attempts=85, attempt_3=.4, prob_3_make=.35, prob_2_make=.49) for x in xrange(200) ]\n",
    "\n",
    "# calculate mean points in each season\n",
    "mean_sim_3pt_season = [round(np.mean(x),2) for x in sim_3pt_season]\n",
    "\n",
    "# calculat standard deviation in each season\n",
    "std_sim_3pt_season = [round(np.std(x),2) for x in sim_3pt_season]\n",
    "\n",
    "print np.median(mean_sim_3pt_season)\n",
    "print np.median(std_sim_3pt_season)"
   ]
  },
  {
   "cell_type": "code",
   "execution_count": 8,
   "metadata": {
    "collapsed": false
   },
   "outputs": [
    {
     "name": "stdout",
     "output_type": "stream",
     "text": [
      "83.8\n",
      "9.615\n"
     ]
    }
   ],
   "source": [
    "# simulate 200 seasons where 28% of shots are from the 3-point line\n",
    "sim_2pt_season = [season(games=82, attempts=85, attempt_3=.10, prob_3_make=.35, prob_2_make=.49) for x in xrange(200)]\n",
    "mean_sim_2pt_season = [round(np.mean(x),2) for x in sim_2pt_season]\n",
    "std_sim_2pt_season = [round(np.std(x),2) for x in sim_2pt_season]\n",
    "\n",
    "print np.median(mean_sim_2pt_season)\n",
    "print np.median(std_sim_2pt_season)"
   ]
  },
  {
   "cell_type": "code",
   "execution_count": null,
   "metadata": {
    "collapsed": true
   },
   "outputs": [],
   "source": []
  }
 ],
 "metadata": {
  "kernelspec": {
   "display_name": "Python 2",
   "language": "python",
   "name": "python2"
  },
  "language_info": {
   "codemirror_mode": {
    "name": "ipython",
    "version": 2
   },
   "file_extension": ".py",
   "mimetype": "text/x-python",
   "name": "python",
   "nbconvert_exporter": "python",
   "pygments_lexer": "ipython2",
   "version": "2.7.12"
  }
 },
 "nbformat": 4,
 "nbformat_minor": 0
}
