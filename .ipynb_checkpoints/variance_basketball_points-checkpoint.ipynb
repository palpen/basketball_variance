{
 "cells": [
  {
   "cell_type": "code",
   "execution_count": 1,
   "metadata": {
    "collapsed": true
   },
   "outputs": [],
   "source": [
    "import random\n",
    "import matplotlib.pyplot as plt\n",
    "import numpy as np"
   ]
  },
  {
   "cell_type": "code",
   "execution_count": 27,
   "metadata": {
    "collapsed": true
   },
   "outputs": [],
   "source": [
    "def made_basket(points, p):\n",
    "    return points if random.random() < p else 0"
   ]
  },
  {
   "cell_type": "code",
   "execution_count": 28,
   "metadata": {
    "collapsed": true
   },
   "outputs": [],
   "source": [
    "def game(attempts, points, p):\n",
    "    made_baskets = []\n",
    "    for i in xrange(attempts):\n",
    "        made_baskets.append(made_basket(points, p))\n",
    "    return made_baskets"
   ]
  },
  {
   "cell_type": "code",
   "execution_count": 29,
   "metadata": {
    "collapsed": true
   },
   "outputs": [],
   "source": [
    "def season(games, attempts, points, p):\n",
    "    \n",
    "    season_outcome = [sum(game(attempts, points, p)) for g in xrange(games)]\n",
    "    \n",
    "    return season_outcome"
   ]
  },
  {
   "cell_type": "code",
   "execution_count": 30,
   "metadata": {
    "collapsed": false
   },
   "outputs": [],
   "source": [
    "season_3pt = season(games=80, attempts=100, points=3, p=.3)"
   ]
  },
  {
   "cell_type": "code",
   "execution_count": 34,
   "metadata": {
    "collapsed": false
   },
   "outputs": [
    {
     "name": "stdout",
     "output_type": "stream",
     "text": [
      "[96, 63, 114, 54, 111, 102, 72, 93, 90, 78, 105, 114, 99, 96, 96, 93, 93, 105, 102, 96, 75, 84, 114, 75, 93, 78, 81, 69, 90, 84, 90, 93, 87, 90, 93, 84, 66, 102, 93, 69, 96, 81, 84, 99, 90, 75, 102, 102, 99, 96, 93, 87, 93, 84, 102, 54, 96, 114, 93, 90, 69, 78, 69, 69, 114, 93, 81, 105, 69, 105, 87, 87, 75, 99, 123, 72, 99, 93, 66, 72]\n"
     ]
    }
   ],
   "source": [
    "print season_3pt"
   ]
  },
  {
   "cell_type": "code",
   "execution_count": 36,
   "metadata": {
    "collapsed": false
   },
   "outputs": [
    {
     "data": {
      "text/plain": [
       "(array([ 0.00362319,  0.00543478,  0.01630435,  0.01811594,  0.01630435,\n",
       "         0.0326087 ,  0.0326087 ,  0.00724638,  0.01086957,  0.00181159]),\n",
       " array([  54. ,   60.9,   67.8,   74.7,   81.6,   88.5,   95.4,  102.3,\n",
       "         109.2,  116.1,  123. ]),\n",
       " <a list of 10 Patch objects>)"
      ]
     },
     "execution_count": 36,
     "metadata": {},
     "output_type": "execute_result"
    },
    {
     "data": {
      "image/png": "[encoded data removed]",
      "text/plain": [
       "<matplotlib.figure.Figure at 0x112366910>"
      ]
     },
     "metadata": {},
     "output_type": "display_data"
    }
   ],
   "source": [
    "%matplotlib inline\n",
    "plt.hist(season_3pt, normed=True, bins=10)"
   ]
  },
  {
   "cell_type": "code",
   "execution_count": 41,
   "metadata": {
    "collapsed": false
   },
   "outputs": [],
   "source": [
    "sim_3pt_season = [season(games=80, attempts=100, points=3, p=.3) for x in xrange(100) ]"
   ]
  },
  {
   "cell_type": "code",
   "execution_count": null,
   "metadata": {
    "collapsed": true
   },
   "outputs": [],
   "source": []
  },
  {
   "cell_type": "code",
   "execution_count": 40,
   "metadata": {
    "collapsed": false
   },
   "outputs": [
    {
     "data": {
      "text/plain": [
       "9.7616596949494205"
      ]
     },
     "execution_count": 40,
     "metadata": {},
     "output_type": "execute_result"
    },
    {
     "data": {
      "image/png": "[encoded data removed]",
      "text/plain": [
       "<matplotlib.figure.Figure at 0x1128fab50>"
      ]
     },
     "metadata": {},
     "output_type": "display_data"
    }
   ],
   "source": [
    "season_2pt = season(games=80, attempts=100, points=2, p=.5)\n",
    "plt.hist(season_3pt, normed=True, bins=10)\n",
    "np.std(season_2pt)"
   ]
  },
  {
   "cell_type": "code",
   "execution_count": 25,
   "metadata": {
    "collapsed": false
   },
   "outputs": [
    {
     "ename": "SyntaxError",
     "evalue": "unexpected EOF while parsing (<ipython-input-25-11abc1f8faf3>, line 1)",
     "output_type": "error",
     "traceback": [
      "\u001b[0;36m  File \u001b[0;32m\"<ipython-input-25-11abc1f8faf3>\"\u001b[0;36m, line \u001b[0;32m1\u001b[0m\n\u001b[0;31m    def season_sim():\u001b[0m\n\u001b[0m                     ^\u001b[0m\n\u001b[0;31mSyntaxError\u001b[0m\u001b[0;31m:\u001b[0m unexpected EOF while parsing\n"
     ]
    }
   ],
   "source": [
    "def season_sim():"
   ]
  },
  {
   "cell_type": "code",
   "execution_count": 26,
   "metadata": {
    "collapsed": false
   },
   "outputs": [
    {
     "data": {
      "text/plain": [
       "[1, 1, 1, 1, 1, 1, 1, 1, 1, 1]"
      ]
     },
     "execution_count": 26,
     "metadata": {},
     "output_type": "execute_result"
    }
   ],
   "source": [
    "[1 for x in xrange(10)]"
   ]
  },
  {
   "cell_type": "code",
   "execution_count": null,
   "metadata": {
    "collapsed": true
   },
   "outputs": [],
   "source": []
  }
 ],
 "metadata": {
  "kernelspec": {
   "display_name": "Python 2",
   "language": "python",
   "name": "python2"
  },
  "language_info": {
   "codemirror_mode": {
    "name": "ipython",
    "version": 2
   },
   "file_extension": ".py",
   "mimetype": "text/x-python",
   "name": "python",
   "nbconvert_exporter": "python",
   "pygments_lexer": "ipython2",
   "version": "2.7.12"
  }
 },
 "nbformat": 4,
 "nbformat_minor": 0
}
