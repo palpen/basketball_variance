{
 "cells": [
  {
   "cell_type": "code",
   "execution_count": 105,
   "metadata": {
    "collapsed": true
   },
   "outputs": [],
   "source": [
    "import random\n",
    "import matplotlib.pyplot as plt\n",
    "import numpy as np"
   ]
  },
  {
   "cell_type": "code",
   "execution_count": 144,
   "metadata": {
    "collapsed": false
   },
   "outputs": [
    {
     "data": {
      "text/plain": [
       "3"
      ]
     },
     "execution_count": 144,
     "metadata": {},
     "output_type": "execute_result"
    }
   ],
   "source": [
    "# points per attempt given probability of attempting a 3 and probability of making a 3 or a 2 pointer\n",
    "def made_basket(attempt_3, prob_3_make, prob_2_make):\n",
    "    \n",
    "    if random.random() <= attempt_3:\n",
    "        \n",
    "        return 3 if random.random() <= prob_3_make else 0\n",
    "    \n",
    "    else:\n",
    "        \n",
    "        return 2 if random.random() <= prob_2_make else 0\n",
    "\n",
    "made_basket(attempt_3=.28, prob_3_make=.3, prob_2_make=.5)"
   ]
  },
  {
   "cell_type": "code",
   "execution_count": 107,
   "metadata": {
    "collapsed": true
   },
   "outputs": [],
   "source": [
    "# list containing points made in a game\n",
    "def game(attempts, attempt_3, prob_3_make, prob_2_make):\n",
    "    \n",
    "    made_baskets = [made_basket(attempt_3, prob_3_make, prob_2_make) for a in xrange(attempts)]\n",
    "    \n",
    "    return made_baskets\n"
   ]
  },
  {
   "cell_type": "code",
   "execution_count": 120,
   "metadata": {
    "collapsed": true
   },
   "outputs": [],
   "source": [
    "# list containint total points for all games in a season\n",
    "def season(games, attempts, attempt_3, prob_3_make, prob_2_make):\n",
    "    \n",
    "    season_outcome = [sum(game(attempts, attempt_3, prob_3_make, prob_2_make)) for g in xrange(games)]\n",
    "    \n",
    "    return season_outcome"
   ]
  },
  {
   "cell_type": "code",
   "execution_count": 109,
   "metadata": {
    "collapsed": false
   },
   "outputs": [
    {
     "data": {
      "text/plain": [
       "(array([ 0.00277778,  0.00694444,  0.0125    ,  0.03333333,  0.02638889,\n",
       "         0.01805556,  0.00694444,  0.00277778,  0.        ,  0.00138889]),\n",
       " array([  54.,   63.,   72.,   81.,   90.,   99.,  108.,  117.,  126.,\n",
       "         135.,  144.]),\n",
       " <a list of 10 Patch objects>)"
      ]
     },
     "execution_count": 109,
     "metadata": {},
     "output_type": "execute_result"
    },
    {
     "data": {
      "image/png": "[encoded data removed]",
      "text/plain": [
       "<matplotlib.figure.Figure at 0x112969990>"
      ]
     },
     "metadata": {},
     "output_type": "display_data"
    }
   ],
   "source": [
    "%matplotlib inline\n",
    "season_3pt = season(games=80, attempts=100, points=3, p=.3)\n",
    "plt.hist(season_3pt, normed=True, bins=10)"
   ]
  },
  {
   "cell_type": "code",
   "execution_count": 115,
   "metadata": {
    "collapsed": false
   },
   "outputs": [
    {
     "name": "stdout",
     "output_type": "stream",
     "text": [
      "[90.6, 91.35, 88.95, 90.41, 89.7, 92.66, 87.26, 88.69, 87.75, 90.04, 89.1, 90.15, 92.33, 88.16, 90.04, 89.33, 90.26, 91.69, 88.69, 93.26, 87.79, 89.4, 87.34, 91.24, 88.91, 90.71, 92.36, 91.09, 90.67, 89.44, 89.66, 89.63, 88.95, 87.75, 89.33, 90.83, 90.26, 88.76, 89.85, 91.01, 94.88, 86.96, 90.49, 89.4, 93.15, 90.15, 92.36, 90.0, 92.17, 88.8, 89.74, 91.72, 90.45, 91.99, 89.03, 90.34, 91.8, 92.51, 89.4, 89.74, 89.85, 92.63, 87.08, 90.83, 91.58, 88.31, 88.95, 88.61, 92.85, 89.44, 90.26, 87.97, 89.47, 91.61, 89.06, 90.08, 88.61, 90.97, 91.61, 93.75, 91.09, 86.78, 89.59, 92.14, 91.35, 88.2, 89.92, 89.7, 87.53, 90.97, 91.39, 89.63, 89.59, 90.9, 86.7, 89.03, 86.7, 91.65, 88.88, 90.53]\n",
      "[15.08, 14.81, 12.15, 11.45, 14.04, 12.91, 14.73, 14.76, 10.95, 14.65, 13.86, 13.37, 13.58, 13.21, 10.28, 12.88, 14.06, 13.87, 13.04, 13.3, 13.93, 12.87, 13.34, 14.12, 12.32, 13.32, 14.76, 11.59, 13.38, 11.01, 14.32, 14.08, 12.59, 11.64, 13.6, 15.35, 12.76, 14.58, 12.88, 13.56, 14.41, 13.45, 14.6, 13.23, 12.13, 12.95, 13.61, 12.02, 13.77, 13.96, 14.44, 12.04, 13.97, 13.36, 12.66, 13.3, 14.5, 14.65, 13.91, 13.19, 13.83, 15.11, 13.73, 10.8, 13.45, 13.63, 13.92, 13.16, 13.31, 13.17, 13.96, 13.14, 14.98, 14.5, 12.92, 15.34, 15.34, 14.29, 14.89, 13.86, 14.11, 15.21, 14.11, 13.59, 16.36, 14.85, 13.37, 15.0, 13.37, 14.8, 12.71, 15.3, 15.7, 14.11, 13.07, 12.23, 11.07, 13.52, 16.16, 13.62]\n"
     ]
    }
   ],
   "source": [
    "# simulate 100 seasons\n",
    "sim_3pt_season = [season(games=80, attempts=100, points=3, p=.30) for x in xrange(100) ]\n",
    "\n",
    "# calculate mean points in each season\n",
    "mean_sim_3pt_season = [round(np.mean(x),2) for x in sim_3pt_season]\n",
    "\n",
    "# calculat standard deviation in each season\n",
    "std_sim_3pt_season = [round(np.std(x),2) for x in sim_3pt_season]\n",
    "\n",
    "print mean_sim_3pt_season\n",
    "print std_sim_3pt_season"
   ]
  },
  {
   "cell_type": "code",
   "execution_count": 116,
   "metadata": {
    "collapsed": false
   },
   "outputs": [
    {
     "name": "stdout",
     "output_type": "stream",
     "text": [
      "[97.92, 100.05, 101.78, 101.15, 99.7, 100.17, 102.38, 100.8, 99.85, 98.58, 98.78, 98.67, 99.38, 100.1, 100.38, 99.67, 101.38, 98.72, 100.08, 99.25, 101.08, 99.28, 100.13, 99.4, 100.1, 98.0, 100.25, 99.3, 99.42, 100.1, 99.9, 100.75, 100.35, 101.45, 99.7, 100.45, 100.47, 101.75, 99.63, 99.85, 100.33, 99.75, 99.25, 101.28, 99.83, 98.88, 101.33, 100.38, 100.75, 100.6, 99.6, 100.55, 99.28, 100.35, 99.7, 99.75, 100.25, 100.33, 100.9, 101.22, 99.6, 98.78, 99.08, 99.4, 99.28, 98.08, 98.1, 98.28, 99.58, 100.2, 98.83, 99.03, 99.7, 100.0, 100.63, 101.13, 99.17, 98.63, 100.0, 100.65, 100.35, 98.72, 99.13, 99.28, 99.7, 99.1, 98.47, 101.05, 98.25, 98.72, 101.97, 99.7, 98.83, 97.9, 101.95, 100.55, 99.72, 98.28, 98.72, 99.03]\n",
      "[9.52, 10.7, 10.75, 9.6, 10.04, 11.36, 10.39, 10.16, 8.42, 9.8, 10.38, 10.66, 8.42, 10.01, 11.06, 11.13, 11.9, 10.74, 9.52, 9.76, 10.89, 9.95, 8.13, 9.09, 9.94, 11.45, 11.01, 9.22, 9.66, 12.57, 10.36, 8.95, 10.33, 9.77, 9.89, 9.49, 10.12, 9.38, 10.95, 9.7, 8.67, 10.33, 10.32, 10.33, 9.47, 9.91, 10.68, 9.71, 10.06, 9.93, 9.9, 10.77, 11.39, 10.06, 9.61, 10.0, 11.86, 11.69, 11.09, 11.07, 9.87, 9.2, 9.44, 9.81, 10.77, 9.43, 9.1, 9.1, 9.88, 9.08, 10.03, 9.78, 10.03, 10.36, 8.49, 11.78, 9.84, 8.74, 11.02, 10.61, 8.28, 10.86, 9.55, 9.72, 8.5, 11.67, 11.03, 10.39, 9.79, 11.56, 10.29, 8.82, 10.36, 10.59, 10.74, 9.33, 9.33, 9.42, 10.47, 10.56]\n"
     ]
    }
   ],
   "source": [
    "# 2 pointers only\n",
    "sim_2pt_season = [season(games=80, attempts=100, points=2, p=.5) for x in xrange(100)]\n",
    "mean_sim_2pt_season = [round(np.mean(x),2) for x in sim_2pt_season]\n",
    "std_sim_2pt_season = [round(np.std(x),2) for x in sim_2pt_season]\n",
    "print mean_sim_2pt_season\n",
    "print std_sim_2pt_season"
   ]
  },
  {
   "cell_type": "code",
   "execution_count": 112,
   "metadata": {
    "collapsed": false
   },
   "outputs": [
    {
     "data": {
      "text/plain": [
       "9.6948439904930908"
      ]
     },
     "execution_count": 112,
     "metadata": {},
     "output_type": "execute_result"
    },
    {
     "data": {
      "image/png": "[encoded data removed]",
      "text/plain": [
       "<matplotlib.figure.Figure at 0x11288ea50>"
      ]
     },
     "metadata": {},
     "output_type": "display_data"
    }
   ],
   "source": [
    "season_2pt = season(games=80, attempts=100, points=2, p=.5)\n",
    "plt.hist(season_3pt, normed=True, bins=10)\n",
    "np.std(season_2pt)"
   ]
  }
 ],
 "metadata": {
  "kernelspec": {
   "display_name": "Python 2",
   "language": "python",
   "name": "python2"
  },
  "language_info": {
   "codemirror_mode": {
    "name": "ipython",
    "version": 2
   },
   "file_extension": ".py",
   "mimetype": "text/x-python",
   "name": "python",
   "nbconvert_exporter": "python",
   "pygments_lexer": "ipython2",
   "version": "2.7.12"
  }
 },
 "nbformat": 4,
 "nbformat_minor": 0
}
